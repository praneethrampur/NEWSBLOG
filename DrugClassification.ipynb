{
  "nbformat": 4,
  "nbformat_minor": 0,
  "metadata": {
    "colab": {
      "name": "Untitled1.ipynb",
      "provenance": [],
      "authorship_tag": "ABX9TyPkiI7tb55gJoasCFVZEja3",
      "include_colab_link": true
    },
    "kernelspec": {
      "name": "python3",
      "display_name": "Python 3"
    }
  },
  "cells": [
    {
      "cell_type": "markdown",
      "metadata": {
        "id": "view-in-github",
        "colab_type": "text"
      },
      "source": [
        "<a href=\"https://colab.research.google.com/github/praneethrampur/NEWSBLOG/blob/master/DrugClassification.ipynb\" target=\"_parent\"><img src=\"https://colab.research.google.com/assets/colab-badge.svg\" alt=\"Open In Colab\"/></a>"
      ]
    },
    {
      "cell_type": "markdown",
      "metadata": {
        "id": "Zo_icRn-M265",
        "colab_type": "text"
      },
      "source": [
        "**Reading the dataset**"
      ]
    },
    {
      "cell_type": "code",
      "metadata": {
        "id": "DgDb5I686qmA",
        "colab_type": "code",
        "colab": {}
      },
      "source": [
        "import pandas as pd\n",
        "df=pd.read_csv('drugclassify.csv')"
      ],
      "execution_count": 0,
      "outputs": []
    },
    {
      "cell_type": "code",
      "metadata": {
        "id": "aRPeSoNbHvEk",
        "colab_type": "code",
        "colab": {}
      },
      "source": [
        "df.drop(columns='unique_hash',inplace=True)"
      ],
      "execution_count": 0,
      "outputs": []
    },
    {
      "cell_type": "code",
      "metadata": {
        "id": "4G_2BCJiH0v4",
        "colab_type": "code",
        "colab": {}
      },
      "source": [
        "y=df['sentiment']\n",
        "df.drop(columns=['sentiment','drug'],inplace=True)"
      ],
      "execution_count": 0,
      "outputs": []
    },
    {
      "cell_type": "code",
      "metadata": {
        "id": "Rjp8vUMbImOb",
        "colab_type": "code",
        "colab": {}
      },
      "source": [
        "from sklearn.feature_extraction.text import TfidfVectorizer\n",
        "from sklearn.metrics import accuracy_score"
      ],
      "execution_count": 0,
      "outputs": []
    },
    {
      "cell_type": "markdown",
      "metadata": {
        "id": "ip4hbJQWNfwv",
        "colab_type": "text"
      },
      "source": [
        "**Preprocessing**:\n",
        "1.Removing all regular expressions\n",
        "2.Tokenization\n",
        "3.Stop word Removal\n",
        "4.Stemmatization/Lemmatization\n"
      ]
    },
    {
      "cell_type": "code",
      "metadata": {
        "id": "CuH_0NEqIsFS",
        "colab_type": "code",
        "outputId": "d962636d-62a3-435f-efa7-f606216bdd36",
        "colab": {
          "base_uri": "https://localhost:8080/",
          "height": 119
        }
      },
      "source": [
        "pd.set_option('display.width', 1000)\n",
        "rx_pat = r\"(\\\\r)|(\\\\n)|(\\\\t)|(\\\\f)|(\\.)|(\\;)|(\\:)|(\\!)|(\\')|(\\?)|(\\,)|(\\\")|(\\()|(\\))|(\\[)|(\\])|(&#039;@)|(\\d\\s)|(\\d)|(\\/)\"\n",
        "rx_pat_wSpace = r\"(\\-)|(\\\\)|(\\s{2,})\"\n",
        "    \n",
        "df['text'].replace(regex=True,inplace=True,to_replace=rx_pat, value=r'')\n",
        "df['text'].replace(regex=True,inplace=True,to_replace=rx_pat_wSpace, value=r' ')\n",
        "df.text.head(5)"
      ],
      "execution_count": 0,
      "outputs": [
        {
          "output_type": "execute_result",
          "data": {
            "text/plain": [
              "0    Autoimmune diseases tend to come in clusters A...\n",
              "1    I can completely understand why you’d want to ...\n",
              "2    Interesting that it only targets SP receptors ...\n",
              "3    Very interesting grand merci Now I wonder wher...\n",
              "4    Hi everybody My latest MRI results for Brain a...\n",
              "Name: text, dtype: object"
            ]
          },
          "metadata": {
            "tags": []
          },
          "execution_count": 221
        }
      ]
    },
    {
      "cell_type": "code",
      "metadata": {
        "id": "edEQfKC5reqJ",
        "colab_type": "code",
        "outputId": "660f2edf-289f-41bb-e659-7c4256a2df62",
        "colab": {
          "base_uri": "https://localhost:8080/",
          "height": 419
        }
      },
      "source": [
        "df"
      ],
      "execution_count": 0,
      "outputs": [
        {
          "output_type": "execute_result",
          "data": {
            "text/html": [
              "<div>\n",
              "<style scoped>\n",
              "    .dataframe tbody tr th:only-of-type {\n",
              "        vertical-align: middle;\n",
              "    }\n",
              "\n",
              "    .dataframe tbody tr th {\n",
              "        vertical-align: top;\n",
              "    }\n",
              "\n",
              "    .dataframe thead th {\n",
              "        text-align: right;\n",
              "    }\n",
              "</style>\n",
              "<table border=\"1\" class=\"dataframe\">\n",
              "  <thead>\n",
              "    <tr style=\"text-align: right;\">\n",
              "      <th></th>\n",
              "      <th>text</th>\n",
              "    </tr>\n",
              "  </thead>\n",
              "  <tbody>\n",
              "    <tr>\n",
              "      <th>0</th>\n",
              "      <td>Autoimmune diseases tend to come in clusters A...</td>\n",
              "    </tr>\n",
              "    <tr>\n",
              "      <th>1</th>\n",
              "      <td>I can completely understand why you’d want to ...</td>\n",
              "    </tr>\n",
              "    <tr>\n",
              "      <th>2</th>\n",
              "      <td>Interesting that it only targets SP receptors ...</td>\n",
              "    </tr>\n",
              "    <tr>\n",
              "      <th>3</th>\n",
              "      <td>Very interesting grand merci Now I wonder wher...</td>\n",
              "    </tr>\n",
              "    <tr>\n",
              "      <th>4</th>\n",
              "      <td>Hi everybody My latest MRI results for Brain a...</td>\n",
              "    </tr>\n",
              "    <tr>\n",
              "      <th>...</th>\n",
              "      <td>...</td>\n",
              "    </tr>\n",
              "    <tr>\n",
              "      <th>5274</th>\n",
              "      <td>Hi Bee Thanks for the update and the good news...</td>\n",
              "    </tr>\n",
              "    <tr>\n",
              "      <th>5275</th>\n",
              "      <td>Have you had blood testing done to check your ...</td>\n",
              "    </tr>\n",
              "    <tr>\n",
              "      <th>5276</th>\n",
              "      <td>All the best to your husband and family</td>\n",
              "    </tr>\n",
              "    <tr>\n",
              "      <th>5277</th>\n",
              "      <td>Hi bazza luckily my eyes arent so badly affect...</td>\n",
              "    </tr>\n",
              "    <tr>\n",
              "      <th>5278</th>\n",
              "      <td>Well my MS appeared to be very mild for a numb...</td>\n",
              "    </tr>\n",
              "  </tbody>\n",
              "</table>\n",
              "<p>5279 rows × 1 columns</p>\n",
              "</div>"
            ],
            "text/plain": [
              "                                                   text\n",
              "0     Autoimmune diseases tend to come in clusters A...\n",
              "1     I can completely understand why you’d want to ...\n",
              "2     Interesting that it only targets SP receptors ...\n",
              "3     Very interesting grand merci Now I wonder wher...\n",
              "4     Hi everybody My latest MRI results for Brain a...\n",
              "...                                                 ...\n",
              "5274  Hi Bee Thanks for the update and the good news...\n",
              "5275  Have you had blood testing done to check your ...\n",
              "5276            All the best to your husband and family\n",
              "5277  Hi bazza luckily my eyes arent so badly affect...\n",
              "5278  Well my MS appeared to be very mild for a numb...\n",
              "\n",
              "[5279 rows x 1 columns]"
            ]
          },
          "metadata": {
            "tags": []
          },
          "execution_count": 222
        }
      ]
    },
    {
      "cell_type": "code",
      "metadata": {
        "id": "SVXnVlyJicYC",
        "colab_type": "code",
        "outputId": "5b4b38bd-bca5-457c-de9c-fae0373fa3df",
        "colab": {
          "base_uri": "https://localhost:8080/",
          "height": 221
        }
      },
      "source": [
        "from nltk.corpus import stopwords\n",
        "from nltk.tokenize import RegexpTokenizer\n",
        "from nltk.stem import WordNetLemmatizer,PorterStemmer\n",
        "from sklearn.feature_extraction.text import TfidfVectorizer\n",
        "\n",
        "tokenizer = RegexpTokenizer(r'\\w+')\n",
        "lemmatizer = WordNetLemmatizer()\n",
        "stemmer=PorterStemmer()\n",
        "\n",
        "\n",
        "def preprocessing(review):\n",
        "    \n",
        "    final_tokens=' '\n",
        "    tokens=tokenizer.tokenize(review)\n",
        "    #print('Tokens:',tokens)\n",
        "    pure_tokens=[token.lower() for token in tokens if token.lower() not in stopwords.words('english')]\n",
        "    #print('Pure Tokens:',pure_tokens)\n",
        "    stemmed_tokens=[stemmer.stem(pure_token) for pure_token in pure_tokens]\n",
        "    \n",
        "    final_tokens=final_tokens.join(stemmed_tokens)\n",
        "    \n",
        "    return final_tokens\n",
        "\n",
        "\n",
        "preprocessing('I was eating my breakfast when you were playing')\n",
        "df['cleaned_text']=df['text'].apply(preprocessing)\n",
        "df['cleaned_text']"
      ],
      "execution_count": 0,
      "outputs": [
        {
          "output_type": "execute_result",
          "data": {
            "text/plain": [
              "0       autoimmun diseas tend come cluster gilenya fee...\n",
              "1       complet understand want tri result report lect...\n",
              "2       interest target sp receptor rather like fingol...\n",
              "3       interest grand merci wonder lemtrada ocrevu sa...\n",
              "4       hi everybodi latest mri result brain cervic co...\n",
              "                              ...                        \n",
              "5274    hi bee thank updat good news scan hard say eff...\n",
              "5275    blood test done check level humira trough dose...\n",
              "5276                                  best husband famili\n",
              "5277    hi bazza luckili eye arent badli affect get he...\n",
              "5278    well ms appear mild number year relaps take co...\n",
              "Name: cleaned_text, Length: 5279, dtype: object"
            ]
          },
          "metadata": {
            "tags": []
          },
          "execution_count": 223
        }
      ]
    },
    {
      "cell_type": "code",
      "metadata": {
        "id": "1ZtxHy2LpLks",
        "colab_type": "code",
        "colab": {}
      },
      "source": [
        "df.drop(columns='text',inplace=True)"
      ],
      "execution_count": 0,
      "outputs": []
    },
    {
      "cell_type": "code",
      "metadata": {
        "id": "o2WhRJK8pgGV",
        "colab_type": "code",
        "outputId": "1f9e1095-0676-4125-f9b4-3bcfcbfb3b7d",
        "colab": {
          "base_uri": "https://localhost:8080/",
          "height": 419
        }
      },
      "source": [
        "df"
      ],
      "execution_count": 0,
      "outputs": [
        {
          "output_type": "execute_result",
          "data": {
            "text/html": [
              "<div>\n",
              "<style scoped>\n",
              "    .dataframe tbody tr th:only-of-type {\n",
              "        vertical-align: middle;\n",
              "    }\n",
              "\n",
              "    .dataframe tbody tr th {\n",
              "        vertical-align: top;\n",
              "    }\n",
              "\n",
              "    .dataframe thead th {\n",
              "        text-align: right;\n",
              "    }\n",
              "</style>\n",
              "<table border=\"1\" class=\"dataframe\">\n",
              "  <thead>\n",
              "    <tr style=\"text-align: right;\">\n",
              "      <th></th>\n",
              "      <th>cleaned_text</th>\n",
              "    </tr>\n",
              "  </thead>\n",
              "  <tbody>\n",
              "    <tr>\n",
              "      <th>0</th>\n",
              "      <td>autoimmun diseas tend come cluster gilenya fee...</td>\n",
              "    </tr>\n",
              "    <tr>\n",
              "      <th>1</th>\n",
              "      <td>complet understand want tri result report lect...</td>\n",
              "    </tr>\n",
              "    <tr>\n",
              "      <th>2</th>\n",
              "      <td>interest target sp receptor rather like fingol...</td>\n",
              "    </tr>\n",
              "    <tr>\n",
              "      <th>3</th>\n",
              "      <td>interest grand merci wonder lemtrada ocrevu sa...</td>\n",
              "    </tr>\n",
              "    <tr>\n",
              "      <th>4</th>\n",
              "      <td>hi everybodi latest mri result brain cervic co...</td>\n",
              "    </tr>\n",
              "    <tr>\n",
              "      <th>...</th>\n",
              "      <td>...</td>\n",
              "    </tr>\n",
              "    <tr>\n",
              "      <th>5274</th>\n",
              "      <td>hi bee thank updat good news scan hard say eff...</td>\n",
              "    </tr>\n",
              "    <tr>\n",
              "      <th>5275</th>\n",
              "      <td>blood test done check level humira trough dose...</td>\n",
              "    </tr>\n",
              "    <tr>\n",
              "      <th>5276</th>\n",
              "      <td>best husband famili</td>\n",
              "    </tr>\n",
              "    <tr>\n",
              "      <th>5277</th>\n",
              "      <td>hi bazza luckili eye arent badli affect get he...</td>\n",
              "    </tr>\n",
              "    <tr>\n",
              "      <th>5278</th>\n",
              "      <td>well ms appear mild number year relaps take co...</td>\n",
              "    </tr>\n",
              "  </tbody>\n",
              "</table>\n",
              "<p>5279 rows × 1 columns</p>\n",
              "</div>"
            ],
            "text/plain": [
              "                                           cleaned_text\n",
              "0     autoimmun diseas tend come cluster gilenya fee...\n",
              "1     complet understand want tri result report lect...\n",
              "2     interest target sp receptor rather like fingol...\n",
              "3     interest grand merci wonder lemtrada ocrevu sa...\n",
              "4     hi everybodi latest mri result brain cervic co...\n",
              "...                                                 ...\n",
              "5274  hi bee thank updat good news scan hard say eff...\n",
              "5275  blood test done check level humira trough dose...\n",
              "5276                                best husband famili\n",
              "5277  hi bazza luckili eye arent badli affect get he...\n",
              "5278  well ms appear mild number year relaps take co...\n",
              "\n",
              "[5279 rows x 1 columns]"
            ]
          },
          "metadata": {
            "tags": []
          },
          "execution_count": 225
        }
      ]
    },
    {
      "cell_type": "markdown",
      "metadata": {
        "id": "ybRMP5ahOW0s",
        "colab_type": "text"
      },
      "source": [
        "**Vectorization**"
      ]
    },
    {
      "cell_type": "code",
      "metadata": {
        "id": "acKJtrDkpqKN",
        "colab_type": "code",
        "colab": {}
      },
      "source": [
        "# VECTORIZE IT (One Hot Encode It)\n",
        "# Each word becomes one feature (column)\n",
        "from sklearn.feature_extraction.text import CountVectorizer\n",
        "\n",
        "cv = CountVectorizer(binary=True)\n",
        "cv.fit(df['cleaned_text'])\n",
        "\n",
        "# Define my X & create my matrix with n things and n features\n",
        "\n",
        "X = cv.transform(df['cleaned_text'])\n",
        "\n"
      ],
      "execution_count": 0,
      "outputs": []
    },
    {
      "cell_type": "markdown",
      "metadata": {
        "id": "Su3fZ-lXPZth",
        "colab_type": "text"
      },
      "source": [
        "**Model Building**"
      ]
    },
    {
      "cell_type": "code",
      "metadata": {
        "id": "NuWPboQrp7aj",
        "colab_type": "code",
        "outputId": "54701e26-cec9-494d-8a9b-9c23633597e5",
        "colab": {
          "base_uri": "https://localhost:8080/",
          "height": 34
        }
      },
      "source": [
        "from sklearn.linear_model import LogisticRegression\n",
        "from sklearn.metrics import accuracy_score\n",
        "from sklearn.model_selection import train_test_split\n",
        "X_train, X_val, y_train, y_val = train_test_split(X, y, train_size = 0.7)\n",
        "X_val.dtype"
      ],
      "execution_count": 0,
      "outputs": [
        {
          "output_type": "execute_result",
          "data": {
            "text/plain": [
              "dtype('int64')"
            ]
          },
          "metadata": {
            "tags": []
          },
          "execution_count": 227
        }
      ]
    },
    {
      "cell_type": "code",
      "metadata": {
        "id": "AIpIKWZIqEZb",
        "colab_type": "code",
        "outputId": "9a8b25cf-6a2b-4933-9b97-f7421abc90a8",
        "colab": {
          "base_uri": "https://localhost:8080/",
          "height": 153
        }
      },
      "source": [
        "log=LogisticRegression()\n",
        "log.fit(X_train,y_train)\n",
        "log_predict=log.predict(X_val)"
      ],
      "execution_count": 0,
      "outputs": [
        {
          "output_type": "stream",
          "text": [
            "/usr/local/lib/python3.6/dist-packages/sklearn/linear_model/_logistic.py:940: ConvergenceWarning: lbfgs failed to converge (status=1):\n",
            "STOP: TOTAL NO. of ITERATIONS REACHED LIMIT.\n",
            "\n",
            "Increase the number of iterations (max_iter) or scale the data as shown in:\n",
            "    https://scikit-learn.org/stable/modules/preprocessing.html\n",
            "Please also refer to the documentation for alternative solver options:\n",
            "    https://scikit-learn.org/stable/modules/linear_model.html#logistic-regression\n",
            "  extra_warning_msg=_LOGISTIC_SOLVER_CONVERGENCE_MSG)\n"
          ],
          "name": "stderr"
        }
      ]
    },
    {
      "cell_type": "code",
      "metadata": {
        "id": "iONCA4aKqK0F",
        "colab_type": "code",
        "outputId": "9a24777f-f646-4546-db46-4c61009c168e",
        "colab": {
          "base_uri": "https://localhost:8080/",
          "height": 419
        }
      },
      "source": [
        "compare=pd.DataFrame({'actuals':y_val,'predicts':log_predict})\n",
        "compare"
      ],
      "execution_count": 0,
      "outputs": [
        {
          "output_type": "execute_result",
          "data": {
            "text/html": [
              "<div>\n",
              "<style scoped>\n",
              "    .dataframe tbody tr th:only-of-type {\n",
              "        vertical-align: middle;\n",
              "    }\n",
              "\n",
              "    .dataframe tbody tr th {\n",
              "        vertical-align: top;\n",
              "    }\n",
              "\n",
              "    .dataframe thead th {\n",
              "        text-align: right;\n",
              "    }\n",
              "</style>\n",
              "<table border=\"1\" class=\"dataframe\">\n",
              "  <thead>\n",
              "    <tr style=\"text-align: right;\">\n",
              "      <th></th>\n",
              "      <th>actuals</th>\n",
              "      <th>predicts</th>\n",
              "    </tr>\n",
              "  </thead>\n",
              "  <tbody>\n",
              "    <tr>\n",
              "      <th>200</th>\n",
              "      <td>2</td>\n",
              "      <td>2</td>\n",
              "    </tr>\n",
              "    <tr>\n",
              "      <th>4611</th>\n",
              "      <td>0</td>\n",
              "      <td>2</td>\n",
              "    </tr>\n",
              "    <tr>\n",
              "      <th>290</th>\n",
              "      <td>0</td>\n",
              "      <td>2</td>\n",
              "    </tr>\n",
              "    <tr>\n",
              "      <th>3080</th>\n",
              "      <td>2</td>\n",
              "      <td>1</td>\n",
              "    </tr>\n",
              "    <tr>\n",
              "      <th>1796</th>\n",
              "      <td>0</td>\n",
              "      <td>1</td>\n",
              "    </tr>\n",
              "    <tr>\n",
              "      <th>...</th>\n",
              "      <td>...</td>\n",
              "      <td>...</td>\n",
              "    </tr>\n",
              "    <tr>\n",
              "      <th>1844</th>\n",
              "      <td>2</td>\n",
              "      <td>0</td>\n",
              "    </tr>\n",
              "    <tr>\n",
              "      <th>2548</th>\n",
              "      <td>0</td>\n",
              "      <td>2</td>\n",
              "    </tr>\n",
              "    <tr>\n",
              "      <th>1941</th>\n",
              "      <td>2</td>\n",
              "      <td>2</td>\n",
              "    </tr>\n",
              "    <tr>\n",
              "      <th>901</th>\n",
              "      <td>2</td>\n",
              "      <td>2</td>\n",
              "    </tr>\n",
              "    <tr>\n",
              "      <th>3352</th>\n",
              "      <td>2</td>\n",
              "      <td>2</td>\n",
              "    </tr>\n",
              "  </tbody>\n",
              "</table>\n",
              "<p>1584 rows × 2 columns</p>\n",
              "</div>"
            ],
            "text/plain": [
              "      actuals  predicts\n",
              "200         2         2\n",
              "4611        0         2\n",
              "290         0         2\n",
              "3080        2         1\n",
              "1796        0         1\n",
              "...       ...       ...\n",
              "1844        2         0\n",
              "2548        0         2\n",
              "1941        2         2\n",
              "901         2         2\n",
              "3352        2         2\n",
              "\n",
              "[1584 rows x 2 columns]"
            ]
          },
          "metadata": {
            "tags": []
          },
          "execution_count": 229
        }
      ]
    },
    {
      "cell_type": "code",
      "metadata": {
        "id": "3mfTuK78qOUT",
        "colab_type": "code",
        "outputId": "81ba580a-a51d-4c15-c525-7545bbb1ab58",
        "colab": {
          "base_uri": "https://localhost:8080/",
          "height": 122
        }
      },
      "source": [
        "from sklearn.metrics import confusion_matrix,accuracy_score,precision_score,recall_score,roc_auc_score,roc_curve\n",
        "confusion_matrix(y_val,log_predict)\n",
        "print('accuarcy_score',accuracy_score(y_val,log_predict))\n",
        "print('recall',recall_score(y_val,log_predict, pos_label='positive',average='weighted'))\n",
        "\n",
        "print('precision:',precision_score(y_val,log_predict, pos_label='positive',average='weighted'))\n",
        "#precision_score(y_test, y_pred, average=None)"
      ],
      "execution_count": 0,
      "outputs": [
        {
          "output_type": "stream",
          "text": [
            "accuarcy_score 0.6786616161616161\n",
            "recall 0.6786616161616161\n",
            "precision: 0.6567392968229612\n"
          ],
          "name": "stdout"
        },
        {
          "output_type": "stream",
          "text": [
            "/usr/local/lib/python3.6/dist-packages/sklearn/metrics/_classification.py:1321: UserWarning: Note that pos_label (set to 'positive') is ignored when average != 'binary' (got 'weighted'). You may use labels=[pos_label] to specify a single positive class.\n",
            "  % (pos_label, average), UserWarning)\n"
          ],
          "name": "stderr"
        }
      ]
    },
    {
      "cell_type": "code",
      "metadata": {
        "id": "Ea_shoFpyXS-",
        "colab_type": "code",
        "colab": {}
      },
      "source": [
        "from sklearn.linear_model import LogisticRegression\n",
        "from sklearn.ensemble import RandomForestClassifier\n",
        "random=RandomForestClassifier()\n",
        "random.fit(X_train,y_train)\n",
        "random_predict=random.predict(X_val)\n"
      ],
      "execution_count": 0,
      "outputs": []
    },
    {
      "cell_type": "code",
      "metadata": {
        "id": "kIRa12blzIUr",
        "colab_type": "code",
        "outputId": "ebfc5285-95a8-4262-9d42-1607db48408b",
        "colab": {
          "base_uri": "https://localhost:8080/",
          "height": 122
        }
      },
      "source": [
        "confusion_matrix(y_val,log_predict)\n",
        "print('accuarcy_score',accuracy_score(y_val,random_predict))\n",
        "print('recall',recall_score(y_val,random_predict, pos_label='positive',average='weighted'))\n",
        "\n",
        "print('precision:',precision_score(y_val,random_predict, pos_label='positive',average='weighted'))\n",
        "#precision_score(y_test, y_pred, average=None)"
      ],
      "execution_count": 0,
      "outputs": [
        {
          "output_type": "stream",
          "text": [
            "accuarcy_score 0.7367424242424242\n",
            "recall 0.7367424242424242\n",
            "precision: 0.6699070065736732\n"
          ],
          "name": "stdout"
        },
        {
          "output_type": "stream",
          "text": [
            "/usr/local/lib/python3.6/dist-packages/sklearn/metrics/_classification.py:1321: UserWarning: Note that pos_label (set to 'positive') is ignored when average != 'binary' (got 'weighted'). You may use labels=[pos_label] to specify a single positive class.\n",
            "  % (pos_label, average), UserWarning)\n"
          ],
          "name": "stderr"
        }
      ]
    },
    {
      "cell_type": "code",
      "metadata": {
        "id": "ImNvVr0KzUHP",
        "colab_type": "code",
        "colab": {}
      },
      "source": [
        "from sklearn.ensemble import AdaBoostClassifier\n",
        "ada=AdaBoostClassifier()\n",
        "ada.fit(X_train,y_train)\n",
        "ada_predict=ada.predict(X_val)"
      ],
      "execution_count": 0,
      "outputs": []
    },
    {
      "cell_type": "code",
      "metadata": {
        "id": "9tjA0Ni60Fi8",
        "colab_type": "code",
        "outputId": "9e313def-517d-4f3f-ab33-ed20deaee382",
        "colab": {
          "base_uri": "https://localhost:8080/",
          "height": 122
        }
      },
      "source": [
        "confusion_matrix(y_val,log_predict)\n",
        "print('accuarcy_score',accuracy_score(y_val,ada_predict))\n",
        "print('recall',recall_score(y_val,ada_predict, pos_label='positive',average='weighted'))\n",
        "\n",
        "print('precision:',precision_score(y_val,ada_predict, pos_label='positive',average='weighted'))"
      ],
      "execution_count": 0,
      "outputs": [
        {
          "output_type": "stream",
          "text": [
            "accuarcy_score 0.7241161616161617\n",
            "recall 0.7241161616161617\n",
            "precision: 0.6330432072205794\n"
          ],
          "name": "stdout"
        },
        {
          "output_type": "stream",
          "text": [
            "/usr/local/lib/python3.6/dist-packages/sklearn/metrics/_classification.py:1321: UserWarning: Note that pos_label (set to 'positive') is ignored when average != 'binary' (got 'weighted'). You may use labels=[pos_label] to specify a single positive class.\n",
            "  % (pos_label, average), UserWarning)\n"
          ],
          "name": "stderr"
        }
      ]
    },
    {
      "cell_type": "code",
      "metadata": {
        "id": "UggsxOuG0TuU",
        "colab_type": "code",
        "colab": {}
      },
      "source": [
        "from sklearn.ensemble import GradientBoostingClassifier\n",
        "gradient=GradientBoostingClassifier()\n",
        "gradient.fit(X_train,y_train)\n",
        "gradient_predict=gradient.predict(X_val)"
      ],
      "execution_count": 0,
      "outputs": []
    },
    {
      "cell_type": "code",
      "metadata": {
        "id": "bqGyn1861F9n",
        "colab_type": "code",
        "outputId": "7bcabd17-f0bf-437f-983a-693042aede93",
        "colab": {
          "base_uri": "https://localhost:8080/",
          "height": 122
        }
      },
      "source": [
        "confusion_matrix(y_val,log_predict)\n",
        "print('accuarcy_score',accuracy_score(y_val,gradient_predict))\n",
        "print('recall',recall_score(y_val,gradient_predict, pos_label='positive',average='weighted'))\n",
        "\n",
        "print('precision:',precision_score(y_val,gradient_predict, pos_label='positive',average='weighted'))"
      ],
      "execution_count": 0,
      "outputs": [
        {
          "output_type": "stream",
          "text": [
            "accuarcy_score 0.7380050505050505\n",
            "recall 0.7380050505050505\n",
            "precision: 0.6811443879163889\n"
          ],
          "name": "stdout"
        },
        {
          "output_type": "stream",
          "text": [
            "/usr/local/lib/python3.6/dist-packages/sklearn/metrics/_classification.py:1321: UserWarning: Note that pos_label (set to 'positive') is ignored when average != 'binary' (got 'weighted'). You may use labels=[pos_label] to specify a single positive class.\n",
            "  % (pos_label, average), UserWarning)\n"
          ],
          "name": "stderr"
        }
      ]
    },
    {
      "cell_type": "code",
      "metadata": {
        "id": "y2ArN6sj1POC",
        "colab_type": "code",
        "colab": {}
      },
      "source": [
        "from sklearn.tree import DecisionTreeClassifier\n",
        "tree=DecisionTreeClassifier()\n",
        "tree.fit(X_train,y_train)\n",
        "tree_predict=tree.predict(X_val)"
      ],
      "execution_count": 0,
      "outputs": []
    },
    {
      "cell_type": "code",
      "metadata": {
        "id": "XE0IJWrv17od",
        "colab_type": "code",
        "outputId": "1d764c48-f841-4d5a-e279-72d8b3521180",
        "colab": {
          "base_uri": "https://localhost:8080/",
          "height": 122
        }
      },
      "source": [
        "confusion_matrix(y_val,log_predict)\n",
        "print('accuarcy_score',accuracy_score(y_val,tree_predict))\n",
        "print('recall',recall_score(y_val,tree_predict, pos_label='positive',average='weighted'))\n",
        "\n",
        "print('precision:',precision_score(y_val,tree_predict, pos_label='positive',average='weighted'))"
      ],
      "execution_count": 0,
      "outputs": [
        {
          "output_type": "stream",
          "text": [
            "accuarcy_score 0.6275252525252525\n",
            "recall 0.6275252525252525\n",
            "precision: 0.6099100596200978\n"
          ],
          "name": "stdout"
        },
        {
          "output_type": "stream",
          "text": [
            "/usr/local/lib/python3.6/dist-packages/sklearn/metrics/_classification.py:1321: UserWarning: Note that pos_label (set to 'positive') is ignored when average != 'binary' (got 'weighted'). You may use labels=[pos_label] to specify a single positive class.\n",
            "  % (pos_label, average), UserWarning)\n"
          ],
          "name": "stderr"
        }
      ]
    },
    {
      "cell_type": "code",
      "metadata": {
        "id": "RUImhT8P2Smg",
        "colab_type": "code",
        "outputId": "a7d5fabd-f57a-4400-ce5e-ce38aa21e28f",
        "colab": {
          "base_uri": "https://localhost:8080/",
          "height": 51
        }
      },
      "source": [
        "from sklearn.svm import LinearSVC\n",
        "svm=LinearSVC()\n",
        "svm.fit(X_train,y_train)\n",
        "svm_predict=svm.predict(X_val)"
      ],
      "execution_count": 0,
      "outputs": [
        {
          "output_type": "stream",
          "text": [
            "/usr/local/lib/python3.6/dist-packages/sklearn/svm/_base.py:947: ConvergenceWarning: Liblinear failed to converge, increase the number of iterations.\n",
            "  \"the number of iterations.\", ConvergenceWarning)\n"
          ],
          "name": "stderr"
        }
      ]
    },
    {
      "cell_type": "code",
      "metadata": {
        "id": "edw2OKqj2hAR",
        "colab_type": "code",
        "outputId": "7d5adcae-4e86-44fc-ce15-f9a87fdb7979",
        "colab": {
          "base_uri": "https://localhost:8080/",
          "height": 122
        }
      },
      "source": [
        "confusion_matrix(y_val,log_predict)\n",
        "print('accuarcy_score',accuracy_score(y_val,svm_predict))\n",
        "print('recall',recall_score(y_val,svm_predict, pos_label='positive',average='weighted'))\n",
        "\n",
        "print('precision:',precision_score(y_val,svm_predict, pos_label='positive',average='weighted'))"
      ],
      "execution_count": 0,
      "outputs": [
        {
          "output_type": "stream",
          "text": [
            "accuarcy_score 0.6376262626262627\n",
            "recall 0.6376262626262627\n",
            "precision: 0.6427130355888421\n"
          ],
          "name": "stdout"
        },
        {
          "output_type": "stream",
          "text": [
            "/usr/local/lib/python3.6/dist-packages/sklearn/metrics/_classification.py:1321: UserWarning: Note that pos_label (set to 'positive') is ignored when average != 'binary' (got 'weighted'). You may use labels=[pos_label] to specify a single positive class.\n",
            "  % (pos_label, average), UserWarning)\n"
          ],
          "name": "stderr"
        }
      ]
    },
    {
      "cell_type": "code",
      "metadata": {
        "id": "PSxbc-iJCj62",
        "colab_type": "code",
        "outputId": "8850b9f0-3639-40cc-b9f7-13587df55a39",
        "colab": {
          "base_uri": "https://localhost:8080/",
          "height": 68
        }
      },
      "source": [
        "import time\n",
        "xgb = XGBClassifier(n_estimators=100)\n",
        "training_start = time.perf_counter()\n",
        "xgb.fit(X_train, y_train)\n",
        "training_end = time.perf_counter()\n",
        "prediction_start = time.perf_counter()\n",
        "preds = xgb.predict(X_val)\n",
        "prediction_end = time.perf_counter()\n",
        "acc_xgb = (preds == y_val).sum().astype(float) / len(preds)\n",
        "xgb_train_time = training_end-training_start\n",
        "xgb_prediction_time = prediction_end-prediction_start\n",
        "print(\"XGBoost's prediction accuracy is: %3.2f\" % (acc_xgb))\n",
        "print(\"Time consumed for training: %4.3f\" % (xgb_train_time))\n",
        "print(\"Time consumed for prediction: %6.5f seconds\" % (xgb_prediction_time))"
      ],
      "execution_count": 0,
      "outputs": [
        {
          "output_type": "stream",
          "text": [
            "XGBoost's prediction accuracy is: 0.73\n",
            "Time consumed for training: 11.178\n",
            "Time consumed for prediction: 0.06424 seconds\n"
          ],
          "name": "stdout"
        }
      ]
    },
    {
      "cell_type": "code",
      "metadata": {
        "id": "6X5T_droHqjZ",
        "colab_type": "code",
        "outputId": "4d663b93-b860-4278-f6bf-7509dab1234e",
        "colab": {
          "base_uri": "https://localhost:8080/",
          "height": 235
        }
      },
      "source": [
        "results = pd.DataFrame({\n",
        "    'Model': ['LogisticRegression', 'Random Forest','Adaboosting', 'Gradient boosting','Xg_Boost'],\n",
        "    'Score': [accuracy_score(y_val,log_predict), accuracy_score(y_val,random_predict),accuracy_score(y_val,ada_predict), \n",
        "              accuracy_score(y_val,gradient_predict),acc_xgb]})\n",
        "    \n",
        "result_df = results.sort_values(by='Score', ascending=False)\n",
        "result_df = result_df.set_index('Model')\n",
        "result_df"
      ],
      "execution_count": 0,
      "outputs": [
        {
          "output_type": "execute_result",
          "data": {
            "text/html": [
              "<div>\n",
              "<style scoped>\n",
              "    .dataframe tbody tr th:only-of-type {\n",
              "        vertical-align: middle;\n",
              "    }\n",
              "\n",
              "    .dataframe tbody tr th {\n",
              "        vertical-align: top;\n",
              "    }\n",
              "\n",
              "    .dataframe thead th {\n",
              "        text-align: right;\n",
              "    }\n",
              "</style>\n",
              "<table border=\"1\" class=\"dataframe\">\n",
              "  <thead>\n",
              "    <tr style=\"text-align: right;\">\n",
              "      <th></th>\n",
              "      <th>Score</th>\n",
              "    </tr>\n",
              "    <tr>\n",
              "      <th>Model</th>\n",
              "      <th></th>\n",
              "    </tr>\n",
              "  </thead>\n",
              "  <tbody>\n",
              "    <tr>\n",
              "      <th>Gradient boosting</th>\n",
              "      <td>0.738005</td>\n",
              "    </tr>\n",
              "    <tr>\n",
              "      <th>Random Forest</th>\n",
              "      <td>0.736742</td>\n",
              "    </tr>\n",
              "    <tr>\n",
              "      <th>Xg_Boost</th>\n",
              "      <td>0.733586</td>\n",
              "    </tr>\n",
              "    <tr>\n",
              "      <th>Adaboosting</th>\n",
              "      <td>0.724116</td>\n",
              "    </tr>\n",
              "    <tr>\n",
              "      <th>LogisticRegression</th>\n",
              "      <td>0.678662</td>\n",
              "    </tr>\n",
              "  </tbody>\n",
              "</table>\n",
              "</div>"
            ],
            "text/plain": [
              "                       Score\n",
              "Model                       \n",
              "Gradient boosting   0.738005\n",
              "Random Forest       0.736742\n",
              "Xg_Boost            0.733586\n",
              "Adaboosting         0.724116\n",
              "LogisticRegression  0.678662"
            ]
          },
          "metadata": {
            "tags": []
          },
          "execution_count": 242
        }
      ]
    },
    {
      "cell_type": "code",
      "metadata": {
        "id": "1uWX42OhTt9O",
        "colab_type": "code",
        "colab": {}
      },
      "source": [
        ""
      ],
      "execution_count": 0,
      "outputs": []
    }
  ]
}